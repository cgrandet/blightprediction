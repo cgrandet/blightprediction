{
 "cells": [
  {
   "cell_type": "code",
   "execution_count": 9,
   "metadata": {
    "collapsed": false
   },
   "outputs": [],
   "source": [
    "%matplotlib inline\n",
    "from config import main \n",
    "import pandas \n",
    "from psycopg2 import connect\n",
    "import os"
   ]
  },
  {
   "cell_type": "code",
   "execution_count": 10,
   "metadata": {
    "collapsed": false
   },
   "outputs": [
    {
     "name": "stdout",
     "output_type": "stream",
     "text": [
      "('frequentpermit_statuscurrent',)\n",
      "('frequentpermit_proposeduse',)\n",
      "('frequentpermit_workclass',)\n",
      "('frequentsales_air_conditioning',)\n",
      "('address',)\n",
      "('bld_info',)\n",
      "('frequentpermit_permitclass',)\n",
      "('crime',)\n",
      "('fire',)\n",
      "('frequentpermit_permittype',)\n",
      "('frequentcrimes_orc',)\n",
      "('frequentfiretypes',)\n",
      "('frequentpermituses',)\n",
      "('frequentsales_basement',)\n",
      "('frequentsales_heating',)\n",
      "('frequentsales_exterior_wall_type',)\n",
      "('frequentsales_garage_type',)\n",
      "('frequentsales_garage_types',)\n",
      "('frequentsales_grade',)\n",
      "('frequentsales_use_code',)\n",
      "('frequentsales_instrument_type',)\n",
      "('frequentsales_instrument_types',)\n",
      "('frequentsales_style',)\n",
      "('frequentsales_use_codes',)\n",
      "('frequentthree11_service_code',)\n",
      "('last_updated_event',)\n",
      "('parcel2address',)\n",
      "('parcel2three11',)\n",
      "('permits',)\n",
      "('tax_foreclosure',)\n",
      "('sales',)\n",
      "('tax_combined',)\n",
      "('taxes_2007',)\n",
      "('taxes_2008',)\n",
      "('geography_columns',)\n",
      "('geometry_columns',)\n",
      "('raster_columns',)\n",
      "('taxes_2009',)\n",
      "('taxes_2010',)\n",
      "('taxes_2011',)\n",
      "('taxes_2012',)\n",
      "('taxes_2013',)\n",
      "('taxes_2014',)\n",
      "('taxes_2015',)\n",
      "('taxes_owners',)\n",
      "('three11',)\n",
      "('weather',)\n",
      "('weather_tmp',)\n",
      "('spatial_ref_sys',)\n",
      "('raster_overviews',)\n"
     ]
    }
   ],
   "source": [
    "##make Postges connection and list all existing schema\n",
    "conn = connect(host=main['db']['host'], user=main['db']['user'], password=main['db']['password'], \n",
    "               database=main['db']['database'], port=main['db']['port'])\n",
    "cur = conn.cursor()\n",
    "cur.execute(\"\"\"SELECT table_name FROM information_schema.tables\n",
    "       WHERE table_schema = 'public'\"\"\")\n",
    "for table in cur.fetchall():\n",
    "    print(table)\n",
    "cur.close()\n",
    "conn.close()"
   ]
  },
  {
   "cell_type": "code",
   "execution_count": null,
   "metadata": {
    "collapsed": true
   },
   "outputs": [],
   "source": []
  }
 ],
 "metadata": {
  "kernelspec": {
   "display_name": "Python 3",
   "language": "python",
   "name": "python3"
  },
  "language_info": {
   "codemirror_mode": {
    "name": "ipython",
    "version": 3
   },
   "file_extension": ".py",
   "mimetype": "text/x-python",
   "name": "python",
   "nbconvert_exporter": "python",
   "pygments_lexer": "ipython3",
   "version": "3.4.3"
  }
 },
 "nbformat": 4,
 "nbformat_minor": 0
}
